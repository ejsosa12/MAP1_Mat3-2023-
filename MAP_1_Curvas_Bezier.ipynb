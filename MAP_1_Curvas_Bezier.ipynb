{
  "nbformat": 4,
  "nbformat_minor": 0,
  "metadata": {
    "colab": {
      "name": "MAP_1_Curvas_Bezier.ipynb",
      "provenance": [],
      "collapsed_sections": [],
      "toc_visible": true
    },
    "kernelspec": {
      "display_name": "Python 3",
      "name": "python3"
    }
  },
  "cells": [
    {
      "cell_type": "markdown",
      "metadata": {
        "id": "aBGOAdWNr5b_"
      },
      "source": [
        "![MAP1.png](https://drive.google.com/uc?export=view&id=1ieqFIi_PJWMdQBT9w0K9zykhpeq8eKNB)"
      ]
    },
    {
      "cell_type": "markdown",
      "metadata": {
        "id": "jE3Sfy2UsNFt"
      },
      "source": [
        "# 1. Introducción.\n",
        "\n",
        "Una curva de Bézier está determinada mediante cuatro **puntos de control**, $P_0(x_0, y_0)$, $P_1(x_1, y_1)$, $P_2(x_2, y_2)$ y $P_3(x_3, y_3)$. Dicha curva se define mediante las siguientes **ecuaciones paramétricas**:\n",
        "\n",
        "$$x=x_0\\, (1-t)^3 + 3x_1\\, t(1-t)^2 + 3x_2\\, t^2(1-t) + x_3\\, t^3$$\n",
        "$$y=y_0\\, (1-t)^3 + 3y_1\\, t(1-t)^2 + 3y_2t^2(1-t) + y_3 \\, t^3,$$\n",
        "\n",
        "\n",
        "en donde $0\\leq t \\leq 1$.  Observe que cuando $t = 0$, se tiene que $(x, y) = P_0(x_0, y_0)$ y cuando $t = 1$ se tiene $(x, y) = P_3(x_3, y_3)$. Por lo tanto,  dicha curva inicia en $P_0$ y termina en $P_3$.\tLa siguiente figura ilustra algunas curvas de Bézier con los puntos de control ilustrados, note como la curvas se ajustan a medida que se varían dichos puntos de control. \n",
        "\n",
        "![MAP1.png](https://drive.google.com/uc?export=view&id=1TI7KnfK8pVAnCaxyx49KZqwPIC47NuEv)\n",
        "\n",
        "\n",
        "\n",
        "\n",
        "\n",
        "\t"
      ]
    },
    {
      "cell_type": "markdown",
      "metadata": {
        "id": "cV8OAyIQ8nM8"
      },
      "source": [
        "## 1.1. Ejemplo de Curvas de Bezier con Python\n",
        "Librerias necesarias para gráficas\n",
        "\n",
        "\n",
        "```\n",
        "import numpy as np\n",
        "import matplotlib.pyplot as plt\n",
        "```\n",
        "La restricción del intervalo para el parámetro $t$ se puede realizar con la siguiente linea de código:\n",
        "\n",
        "\n",
        "\n",
        "```\n",
        "t = np.linspace(0,1,100)\n",
        "```\n",
        "\n",
        "donde el intervalo mostrado es $0\\leq t \\leq 1$ con uso de 100 valores de muestra en el intervalo. Los puntos de control para la curva de Bezier se definen en las siguientes lineas:\n",
        "\n",
        "\n",
        "\n",
        "*   $P_0(x_0,y_0)$:\n",
        "\n",
        "\n",
        "```\n",
        "x_0 = -3\n",
        "y_0 = 2\n",
        "```\n",
        "\n",
        "*   $P_1(x_1,y_1)$:\n",
        "\n",
        "\n",
        "```\n",
        "x_1 = 2\n",
        "y_1 = 5\n",
        "```\n",
        "\n",
        "*   $P_2(x_2,y_2)$:\n",
        "\n",
        "\n",
        "```\n",
        "x_2 = 5\n",
        "y_2 = 5\n",
        "```\n",
        "\n",
        "*   $P_3(x_3,y_3)$:\n",
        "\n",
        "\n",
        "```\n",
        "x_3 = 6\n",
        "y_3 = -1\n",
        "```\n",
        "\n",
        "Las ecuaciones paramétricas para la Curva de Bezier vistas en la introducción se definen como:\n",
        "\n",
        "\n",
        "```\n",
        "x = x_0*(1-t)**3 + 3*x_1*t*(1-t)**2 + 3*x_2*t**2*(1-t) + x_3*t**3\n",
        "y = y_0*(1-t)**3 + 3*y_1*t*(1-t)**2 + 3*y_2*t**2*(1-t) + y_3*t**3\n",
        "```\n",
        "\n",
        "Para graficar la curva de Bezier anterior definida se utiliza la librería *Mathplotlib* de Python.\n",
        "\n",
        "\n",
        "```\n",
        "plt.plot(x,y,c=(1,0.5,0.5),lw=4) + plt.plot(0,0,c=(1,0.5,0.5),lw=4)\n",
        "```"
      ]
    },
    {
      "cell_type": "markdown",
      "metadata": {
        "id": "liZ-lzlHC2Uc"
      },
      "source": [
        "## 1.2. Simulación del Ejemplo\n",
        "Las anteriores lineas y definiciones las puede simular en la siguiente parte de código. "
      ]
    },
    {
      "cell_type": "code",
      "metadata": {
        "id": "-ZSMQpkvrma3",
        "colab": {
          "base_uri": "https://localhost:8080/",
          "height": 594
        },
        "outputId": "d26f93e2-d8e6-4633-a41b-256ff9a893c7"
      },
      "source": [
        "import numpy as np\n",
        "import matplotlib.pyplot as plt\n",
        "\n",
        "t = np.linspace(0,1,100)\n",
        "\n",
        "x_0 = -3\n",
        "y_0 = 2\n",
        " \n",
        "x_1 = 3\n",
        "y_1 = 5\n",
        "\n",
        "x_2 = 4\n",
        "y_2 = 5\n",
        "\n",
        "x_3 = 6\n",
        "y_3 = -1\n",
        "\n",
        "x = x_0*(1-t)**3 + 3*x_1*t*(1-t)**2 + 3*x_2*t**2*(1-t) + x_3*t**3\n",
        "y = y_0*(1-t)**3 + 3*y_1*t*(1-t)**2 + 3*y_2*t**2*(1-t) + y_3*t**3\n",
        "\n",
        "\n",
        "# Titulo de la gráfica y ejes\n",
        "\n",
        "\n",
        "# Gráfica de los Puntos P0, P1, P2, P3  \n",
        "#x_puntos = [x_0,x_1,x_2,x_3] \n",
        "#y_puntos = [y_0,y_1,y_2,y_3] \n",
        "#plt.plot(x_puntos, y_puntos, color='green', linestyle='dashed', linewidth = 3, \n",
        "        # marker='o', markerfacecolor='blue', markersize=12) \n",
        "\n",
        "# Curva de Bezier\n",
        "#plt.xlim(0, 100)\n",
        "#plt.ylim(0, 50);\n",
        "#plt.plot(x,y,c=(1,0.5,0.5),lw=4)\n",
        "f = plt.figure()\n",
        "plt.title('Curva de Bezier') \n",
        "plt.xlabel('Eje x') \n",
        "plt.ylabel('Eje y') \n",
        "f.set_figwidth(20)\n",
        "f.set_figheight(10)\n",
        "plt.plot(x,y,c=(1,0.5,0.5),lw=4)\n",
        "plt.show()"
      ],
      "execution_count": null,
      "outputs": [
        {
          "output_type": "display_data",
          "data": {
            "image/png": "[encoded data removed]",
            "text/plain": [
              "<Figure size 1440x720 with 1 Axes>"
            ]
          },
          "metadata": {
            "tags": [],
            "needs_background": "light"
          }
        }
      ]
    },
    {
      "cell_type": "markdown",
      "metadata": {
        "id": "g4xcrJGeDmnj"
      },
      "source": [
        "Adicional usted encuentra como colocar nombre a su gráfica, etiqueta de ejes y como graficar rectas entre puntos."
      ]
    },
    {
      "cell_type": "markdown",
      "metadata": {
        "id": "gc1e_oY2H-Ib"
      },
      "source": [
        "# 2. Guía Práctica - Parte 1\n"
      ]
    },
    {
      "cell_type": "markdown",
      "metadata": {
        "id": "y0X-MnJYIYij"
      },
      "source": [
        "1.   Grafique la curva de Bézier generada por puntos de control $P_0(4,1)$, $P_1(28, 48)$, $P_2(50,42)$ y $P_3(40,5)$.\n"
      ]
    },
    {
      "cell_type": "code",
      "metadata": {
        "id": "cLYNzFWsIhpC"
      },
      "source": [
        "###### Agregue las lineas de código que considere necesarias para este inciso.\n",
        "\n",
        "\n",
        "\n",
        "######"
      ],
      "execution_count": null,
      "outputs": []
    },
    {
      "cell_type": "markdown",
      "metadata": {
        "id": "WRHKXSwBIu6C"
      },
      "source": [
        "\n",
        "2.   En la misma gráfica, trace los segmentos de recta $\\overline{P_0P_1}$, $\\overline{P_1P_2}$ \n",
        "\t\ty $\\overline{P_2P_3}$.\n",
        "\t\tNotar como los puntos de control medios $P_1$ y $P_2$ no están sobre la curva.\n",
        "\t\tLa curva inicia en $P_0$, se dirige hacia $P_1$ y $P_2$ sin alcanzarlos y termina\n",
        "\t\ten $P_3$.\n",
        "\n"
      ]
    },
    {
      "cell_type": "code",
      "metadata": {
        "id": "MBbv0ukmI3PJ"
      },
      "source": [
        "###### Agregue las lineas de código que considere necesarias para este inciso.\n",
        "\n",
        "\n",
        "\n",
        "######"
      ],
      "execution_count": null,
      "outputs": []
    },
    {
      "cell_type": "markdown",
      "metadata": {
        "id": "P94YGHj0I4I5"
      },
      "source": [
        "3.   Algunas impresoras láser usan las curvas de Bézier para representar letras y otros símbolos. Experimente con puntos de control hasta que encuentre una curva de Bézier que dé una representación razonable de la letra $C$.\n",
        "\n"
      ]
    },
    {
      "cell_type": "code",
      "metadata": {
        "id": "qK0U9eMGI9cx"
      },
      "source": [
        "###### Agregue las lineas de código que considere necesarias para este inciso.\n",
        "\n",
        "\n",
        "\n",
        "######"
      ],
      "execution_count": null,
      "outputs": []
    },
    {
      "cell_type": "markdown",
      "metadata": {
        "id": "9OHsYL13I9lp"
      },
      "source": [
        "4.   Se pueden representar formas más complicadas al unir dos o más curvas de Bézier. Suponga que la primera curva de Bézier tienen puntos de control $P_0$, $P_1$, $P_2$ y $P_3$ y la segunda tiene puntos de control $P_3$, $P_4$, $P_5$ y $P_6$. Si desea unir estos dos trozos \n",
        " de manera *suave*, entonces las rectas tangentes en $P_3$ debe corresponderse y, por tanto, los puntos $P_2$, $P_3$ y $P_4$ tiene que estar sobre esta recta tangente común. \n",
        " \n",
        " \n",
        " Grafique las curvas de Bézier que considere necesarias para escribir el **nombre** o **apellido** de algún matemático famoso *(con un mínimo de 6 letras)*. No olvide agregar dichas ecuaciones y\tsu gráfica al reporte. "
      ]
    },
    {
      "cell_type": "code",
      "metadata": {
        "id": "roQrFUOmJfBC"
      },
      "source": [
        "###### Agregue las lineas de código que considere necesarias para este inciso.\n",
        "\n",
        "\n",
        "\n",
        "######"
      ],
      "execution_count": null,
      "outputs": []
    }
  ]
}